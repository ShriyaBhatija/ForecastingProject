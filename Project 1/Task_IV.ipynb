{
 "cells": [
  {
   "cell_type": "markdown",
   "id": "192e314f",
   "metadata": {},
   "source": [
    "# Task IV - Predicting the Distribution of Target Variables using Histograms"
   ]
  },
  {
   "cell_type": "code",
   "execution_count": null,
   "id": "c3bf5a2f",
   "metadata": {},
   "outputs": [],
   "source": [
    "%run Task_I.ipynb"
   ]
  },
  {
   "cell_type": "markdown",
   "id": "6ccc0ca3",
   "metadata": {},
   "source": [
    "### Task 4.1 \n",
    "For this task choose the data set X that has been the outcome of pre-processing and outlier removal. For pre-processing chose the method that gives the best results in Task III. For outlier removal, chose a threshold that keeps 99% of the samples in the data set."
   ]
  },
  {
   "cell_type": "code",
   "execution_count": 41,
   "id": "c0cf4321",
   "metadata": {},
   "outputs": [],
   "source": [
    "#The pre-processing method that gives the best results in Task III is column-wise standardization \n",
    "X_KV_columns_scaled = pd.DataFrame(X_KV_columns_scaled)\n",
    "X_VoD_columns_scaled = pd.DataFrame(X_VoD_columns_scaled) "
   ]
  },
  {
   "cell_type": "code",
   "execution_count": 42,
   "id": "2cee1f9f",
   "metadata": {},
   "outputs": [],
   "source": [
    "#Number of outliers\n",
    "#Use this function to find the threshold that keeps 99% of the samples in the dataset\n",
    "def count(features,thr): \n",
    "    counter = 0\n",
    "    features = features.T\n",
    "    for col in features:\n",
    "        if any(np.absolute(features[col]) >= thr):\n",
    "            counter += 1\n",
    "    return counter\n",
    "\n",
    "#For dataset JNSM_KV_flashcrowd_1 99% of samples correspond to 9405 samples, i.e. 95 outliers\n",
    "#Choose threshold 69\n",
    "\n",
    "#For dataset JNSM_VoD_flashcrowd_1 99% of samples correspond to 17325 samples, i.e. 175 outliers\n",
    "#Choose threshold 54 which results in 161 outliers "
   ]
  },
  {
   "cell_type": "code",
   "execution_count": 43,
   "id": "2269d3f3",
   "metadata": {},
   "outputs": [],
   "source": [
    "# Function that removes outliers from the features matrix as well as the target scores\n",
    "# Note: Input is of the format pd.DataFrame\n",
    "def outlier_detection(features, labels, thr): \n",
    "    features = features.T\n",
    "    for col in features:\n",
    "        if any(np.absolute(features[col]) >= thr):\n",
    "            features = features.drop([col],axis=1)\n",
    "            labels = labels.drop([col],axis=0)\n",
    "    return features.T, labels #Returns reduced feature matrix and target scores"
   ]
  },
  {
   "cell_type": "code",
   "execution_count": 44,
   "id": "e44baafa",
   "metadata": {},
   "outputs": [
    {
     "name": "stdout",
     "output_type": "stream",
     "text": [
      "Stored 'Y_KV_outlier' (Series)\n"
     ]
    }
   ],
   "source": [
    "X_KV_outlier = outlier_detection(X_KV_columns_scaled, Y_KV['ReadsAvg'], 69)[0]\n",
    "Y_KV_outlier = outlier_detection(X_KV_columns_scaled, Y_KV['ReadsAvg'], 69)[1]\n",
    "%store Y_KV_outlier"
   ]
  },
  {
   "cell_type": "code",
   "execution_count": 45,
   "id": "8d39abf4",
   "metadata": {},
   "outputs": [
    {
     "name": "stdout",
     "output_type": "stream",
     "text": [
      "Stored 'Y_VoD_outlier' (Series)\n"
     ]
    }
   ],
   "source": [
    "X_VoD_outlier = outlier_detection(X_VoD_columns_scaled, Y_VoD['DispFrames'], 54)[0]\n",
    "Y_VoD_outlier = outlier_detection(X_VoD_columns_scaled, Y_VoD['DispFrames'], 54)[1]\n",
    "%store Y_VoD_outlier"
   ]
  },
  {
   "cell_type": "code",
   "execution_count": 48,
   "id": "4e250918",
   "metadata": {},
   "outputs": [],
   "source": [
    "#Divide into test and traning set and sort after index\n",
    "from sklearn.model_selection import train_test_split\n",
    "X_KV_outlier_train, X_KV_outlier_test, Y_KV_outlier_train, Y_KV_outlier_test = train_test_split(X_KV_outlier, Y_KV_outlier, test_size=0.2, random_state=42)\n",
    "X_VoD_outlier_train, X_VoD_outlier_test, Y_VoD_outlier_train, Y_VoD_outlier_test = train_test_split(X_VoD_outlier, Y_VoD_outlier, test_size=0.2, random_state=42)\n",
    "\n",
    "X_KV_outlier_train = X_KV_outlier_train.sort_index(axis=0)\n",
    "X_KV_outlier_test = X_KV_outlier_test.sort_index(axis=0)\n",
    "Y_KV_outlier_train = Y_KV_outlier_train.sort_index(axis=0)\n",
    "Y_KV_outlier_test = Y_KV_outlier_test.sort_index(axis=0)\n",
    "\n",
    "X_VoD_outlier_train = X_VoD_outlier_train.sort_index(axis=0)\n",
    "X_VoD_outlier_test = X_VoD_outlier_test.sort_index(axis=0)\n",
    "Y_VoD_outlier_train = Y_VoD_outlier_train.sort_index(axis=0)\n",
    "Y_VoD_outlier_test = Y_VoD_outlier_test.sort_index(axis=0)"
   ]
  },
  {
   "cell_type": "code",
   "execution_count": 37,
   "id": "b628c129",
   "metadata": {},
   "outputs": [
    {
     "name": "stdout",
     "output_type": "stream",
     "text": [
      "Stored 'X_KV_outlier_train' (DataFrame)\n",
      "Stored 'X_KV_outlier_test' (DataFrame)\n",
      "Stored 'Y_KV_outlier_train' (Series)\n",
      "Stored 'Y_KV_outlier_test' (Series)\n",
      "Stored 'X_VoD_outlier_train' (DataFrame)\n",
      "Stored 'X_VoD_outlier_test' (DataFrame)\n",
      "Stored 'Y_VoD_outlier_train' (Series)\n",
      "Stored 'Y_VoD_outlier_test' (Series)\n"
     ]
    }
   ],
   "source": [
    "%store X_KV_outlier_train X_KV_outlier_test Y_KV_outlier_train Y_KV_outlier_test\n",
    "%store X_VoD_outlier_train X_VoD_outlier_test Y_VoD_outlier_train Y_VoD_outlier_test"
   ]
  },
  {
   "cell_type": "code",
   "execution_count": 49,
   "id": "44255d80",
   "metadata": {},
   "outputs": [],
   "source": [
    "%store -r X_KV_outlier_train X_KV_outlier_test Y_KV_outlier_train Y_KV_outlier_test\n",
    "%store -r X_VoD_outlier_train X_VoD_outlier_test Y_VoD_outlier_train Y_VoD_outlier_test"
   ]
  },
  {
   "cell_type": "markdown",
   "id": "ee6de077",
   "metadata": {},
   "source": [
    "### Task 4.3\n",
    "In the case of Y representing the Video Frame Rate, the y values are integers, e.g., 15 Frames/sec. Consider the histogram on the interval y ∈ [0.5, 30.5] with a bin size of 1. This results in 30 bins, with mid points 1, 2, .., 30."
   ]
  },
  {
   "cell_type": "code",
   "execution_count": 63,
   "id": "688f05a9",
   "metadata": {},
   "outputs": [
    {
     "data": {
      "image/png": "[encoded data removed]",
      "text/plain": [
       "<Figure size 700x300 with 1 Axes>"
      ]
     },
     "metadata": {},
     "output_type": "display_data"
    }
   ],
   "source": [
    "plt.figure(figsize = (7,3))\n",
    "n_VoD, bins_VoD, patches_VoD = plt.hist(Y_VoD['DispFrames'], bins=30, range=[0.5,30.5], density = True, align='mid', linewidth = 2,color = \"lightblue\", ec=\"red\")\n",
    "plt.xlabel('DispFrames',fontsize=18)\n",
    "plt.ylabel('Density', fontsize = 18)\n",
    "#plt.savefig('hist_dispframes', bbox_inches='tight')\n",
    "plt.show()"
   ]
  },
  {
   "cell_type": "markdown",
   "id": "213a97fd",
   "metadata": {},
   "source": [
    "### Task 4.4 \n",
    "In the case of Y representing the Response Time, consider the histogram on the interval y ∈ [ymin, ymax] whereby ymin is the minimum y value in the training set and ymax is the maximum y value. Divide this interval into 20 bins of equal size."
   ]
  },
  {
   "cell_type": "code",
   "execution_count": 62,
   "id": "5ec15b4b",
   "metadata": {},
   "outputs": [
    {
     "data": {
      "image/png": "[encoded data removed]",
      "text/plain": [
       "<Figure size 700x300 with 1 Axes>"
      ]
     },
     "metadata": {},
     "output_type": "display_data"
    }
   ],
   "source": [
    "#Find minimum and maximum values y on the training set\n",
    "y_min = np.min(Y_KV_outlier_train)\n",
    "y_max = np.max(Y_KV_outlier_train)\n",
    "\n",
    "plt.figure(figsize = (7,3))\n",
    "n_KV, bins_KV, patches_KV = plt.hist(Y_KV['ReadsAvg'], bins=20, range=[y_min,y_max], density = True, align='mid', linewidth = 2, color = \"lightblue\", ec=\"red\")\n",
    "plt.xlabel('ReadsAvg',fontsize=18)\n",
    "plt.ylabel('Density', fontsize = 18)\n",
    "#plt.savefig('hist_readsavg', bbox_inches='tight')\n",
    "plt.show()"
   ]
  },
  {
   "cell_type": "markdown",
   "id": "f3ada518",
   "metadata": {},
   "source": [
    "### Task 4.5\n",
    "Consider each bin of the histogram as a separate class and use a random forest classifier to predict the probability for each class."
   ]
  },
  {
   "cell_type": "code",
   "execution_count": 85,
   "id": "034ea1ff",
   "metadata": {},
   "outputs": [],
   "source": [
    "from sklearn.ensemble import RandomForestClassifier"
   ]
  },
  {
   "cell_type": "markdown",
   "id": "83753cf6",
   "metadata": {},
   "source": [
    "#### JNSM_VoD_flashcrowd_1"
   ]
  },
  {
   "cell_type": "code",
   "execution_count": 96,
   "id": "54b55c38",
   "metadata": {},
   "outputs": [],
   "source": [
    "#Y values are already integers which correspond to the mid points of the bins\n",
    "#There should only be 30 classes\n",
    "def classes(features):\n",
    "    classes = []\n",
    "    for y in features:\n",
    "        if y >= bins_VoD[30]: \n",
    "            classes.append(30)\n",
    "        if y <= bins_VoD[0]:\n",
    "            classes.append(1)\n",
    "        else: \n",
    "            classes.append(y)\n",
    "    return np.array(classes)\n",
    "\n",
    "classes_VoD_train = classes(Y_VoD_outlier_train)\n",
    "classes_VoD_test = classes(Y_VoD_outlier_test)\n",
    "\n",
    "#Fitting Random Forest Classifier\n",
    "rand_forest_VoD = RandomForestClassifier(n_estimators=15, max_depth=10)\n",
    "rand_forest_VoD.fit(X_VoD_outlier_train, np.ravel(Y_VoD_outlier_train))                                                \n",
    "prediction_VoD = rand_forest_VoD.predict(X_VoD_outlier_test)\n",
    "\n",
    "#Class probabilities for test and training set\n",
    "class_prob_VoD_train = rand_forest_VoD.predict_proba(X_VoD_outlier_train)\n",
    "class_prob_VoD_test = rand_forest_VoD.predict_proba(X_VoD_outlier_test)"
   ]
  },
  {
   "cell_type": "markdown",
   "id": "67e6511f",
   "metadata": {},
   "source": [
    "#### Dataset JNSM_KV_flashcrowd_1"
   ]
  },
  {
   "cell_type": "code",
   "execution_count": 177,
   "id": "953b6229",
   "metadata": {},
   "outputs": [],
   "source": [
    "#Assign each target value a class that is determined by the bins\n",
    "def classes(features):\n",
    "    classes = []\n",
    "    for y in features:\n",
    "        for i in range(0,20,1):\n",
    "            if y >= bins_KV[i] and y < bins_KV[i+1]: \n",
    "                classes.append((bins_KV[i]+bins_KV[i+1])*0.5)\n",
    "        if y >= bins_KV[19]:\n",
    "            classes.append((bins_KV[19]+bins_KV[20])*0.5)\n",
    "    return np.array(classes)\n",
    "\n",
    "classes_KV_train = classes(Y_KV_outlier_train)\n",
    "classes_KV_test = classes(Y_KV_outlier_test)"
   ]
  },
  {
   "cell_type": "code",
   "execution_count": 181,
   "id": "b69e88a5",
   "metadata": {},
   "outputs": [],
   "source": [
    "#Label Encoder\n",
    "from sklearn import preprocessing\n",
    "from sklearn import utils\n",
    "\n",
    "#convert y values to categorical values\n",
    "lab = preprocessing.LabelEncoder()\n",
    "classes_KV_train = lab.fit_transform(classes(Y_KV_outlier_train))\n",
    "\n",
    "#To reverse this execute: classes_KV_train = lab.inverse_transform(classes_KV_train)"
   ]
  },
  {
   "cell_type": "code",
   "execution_count": 186,
   "id": "b94f38c6",
   "metadata": {},
   "outputs": [],
   "source": [
    "rand_forest_KV = RandomForestClassifier(n_estimators=15, max_depth=10)\n",
    "rand_forest_KV.fit(X_KV_outlier_train, np.ravel(classes_KV_train))                                                \n",
    "prediction_KV = rand_forest_KV.predict(X_KV_outlier_test)\n",
    "\n",
    "#Class probabilities for test and training set\n",
    "class_prob_KV_train = rand_forest_KV.predict_proba(X_KV_outlier_train)\n",
    "class_prob_KV_test = rand_forest_KV.predict_proba(X_KV_outlier_test)"
   ]
  },
  {
   "cell_type": "code",
   "execution_count": 176,
   "id": "56b84a49",
   "metadata": {},
   "outputs": [
    {
     "name": "stdout",
     "output_type": "stream",
     "text": [
      "[59.19 57.71 57.71 ... 54.77 56.24 54.77]\n",
      "(0, 1)\n",
      "(1, 2)\n",
      "(2, 3)\n",
      "(3, 4)\n",
      "(4, 5)\n",
      "(5, 6)\n",
      "(6, 7)\n",
      "(7, 8)\n",
      "(8, 9)\n",
      "(9, 10)\n",
      "(10, 11)\n",
      "(11, 12)\n",
      "(12, 13)\n",
      "(13, 14)\n",
      "(14, 15)\n",
      "(15, 16)\n",
      "(16, 17)\n",
      "(19, 20)\n"
     ]
    }
   ],
   "source": [
    "print(classes_KV_train)\n",
    "for i in range(0,20,1):\n",
    "    if np.any((classes_KV_train>=bins_KV[i]) & (classes_KV_train<=bins_KV[i+1])):\n",
    "        print((i,i+1))"
   ]
  },
  {
   "cell_type": "code",
   "execution_count": 188,
   "id": "2450d3db",
   "metadata": {},
   "outputs": [
    {
     "name": "stdout",
     "output_type": "stream",
     "text": [
      "[0.33 0.07 0.   0.2  0.27 0.13 0.   0.   0.   0.   0.   0.   0.   0.\n",
      " 0.   0.   0.   0.  ]\n"
     ]
    }
   ],
   "source": [
    "print(class_prob_KV_test[1])"
   ]
  },
  {
   "cell_type": "markdown",
   "id": "a2ee93d3",
   "metadata": {},
   "source": [
    "### Task 4.6\n",
    "To evaluate the accuracy of the method, compute the error of the expected values with respect to the measured values over the test set. Express the error as NMAE. Compare the result with those from Tasks II and III"
   ]
  },
  {
   "cell_type": "code",
   "execution_count": 99,
   "id": "0904360c",
   "metadata": {},
   "outputs": [
    {
     "name": "stdout",
     "output_type": "stream",
     "text": [
      "0.07023778416514241\n"
     ]
    }
   ],
   "source": [
    "#For dataset JNSM_VoD_flashcrowd_1 \n",
    "NMAE_VoD = (1/np.mean(Y_VoD_outlier_test))*mean_absolute_error(prediction_VoD,Y_VoD_outlier_test)\n",
    "print(NMAE_VoD)\n",
    "\n",
    "#Task II: Without outlier removal, the NMAE was 0.0614\n",
    "#Task III: "
   ]
  },
  {
   "cell_type": "code",
   "execution_count": 44,
   "id": "eaed9e7f",
   "metadata": {},
   "outputs": [
    {
     "name": "stdout",
     "output_type": "stream",
     "text": [
      "0.019091090016064093\n"
     ]
    }
   ],
   "source": [
    "#For dataset JNSM_KV_flashcrowd_1 \n",
    "\n",
    "#Reverse label encoding (Error when running multiple times, have to run code before)\n",
    "classes_KV_train = lab.inverse_transform(classes_KV_train)\n",
    "prediction_KV = lab.inverse_transform(prediction_KV)\n",
    "\n",
    "NMAE_KV = (1/np.mean(Y_KV_outlier_test))*mean_absolute_error(prediction_KV,Y_KV_outlier_test)\n",
    "print(NMAE_KV)\n",
    "\n",
    "#Task II: Without outlier removal, the NMAE was 0.0178\n",
    "#Task III: For a threshold of 69 the NMAE was approx. 0.016 < 0.019 "
   ]
  },
  {
   "cell_type": "markdown",
   "id": "2bf3958f",
   "metadata": {},
   "source": [
    "### Task 4.7\n",
    "For illustration purposes, chose two x-samples from the test set and draw the two predicted histograms. For both histograms indicate the measured y-values."
   ]
  },
  {
   "cell_type": "code",
   "execution_count": 102,
   "id": "94543063",
   "metadata": {},
   "outputs": [
    {
     "data": {
      "image/png": "[encoded data removed]",
      "text/plain": [
       "<Figure size 700x300 with 1 Axes>"
      ]
     },
     "metadata": {},
     "output_type": "display_data"
    },
    {
     "name": "stdout",
     "output_type": "stream",
     "text": [
      "Measured y-value: 12\n"
     ]
    },
    {
     "data": {
      "image/png": "[encoded data removed]",
      "text/plain": [
       "<Figure size 700x300 with 1 Axes>"
      ]
     },
     "metadata": {},
     "output_type": "display_data"
    },
    {
     "name": "stdout",
     "output_type": "stream",
     "text": [
      "Measured y-value: 24\n"
     ]
    }
   ],
   "source": [
    "#For dataset JNSM_VoD_flashcrowd_1 \n",
    "\n",
    "#First two samples\n",
    "samples_VoD = X_VoD_outlier_test.iloc[0:2,:]\n",
    "samples_VoD_class_prob = rand_forest_VoD.predict_proba(samples_VoD)\n",
    "\n",
    "\n",
    "#Plots\n",
    "labels = np.arange(0,26,1)\n",
    "\n",
    "plt.figure(figsize = (7,3))\n",
    "plt.bar(labels,samples_VoD_class_prob[0], width=1,align='center', linewidth=2, color = \"lightblue\", ec=\"red\")\n",
    "plt.xlabel('DispFrames',fontsize=16)\n",
    "plt.ylabel('Density',fontsize=16)\n",
    "#plt.title('Dataset JNSM_VoD_flashcrowd_1')\n",
    "#plt.savefig('sample1_VoD', bbox_inches='tight')\n",
    "plt.show()\n",
    "\n",
    "print('Measured y-value: %s' %Y_VoD_outlier_test.iloc[0])\n",
    "\n",
    "plt.figure(figsize = (7,3))\n",
    "plt.bar(labels,samples_VoD_class_prob[1], width=1,align='center', linewidth=2, color = \"lightblue\", ec=\"red\")\n",
    "plt.xlabel('DispFrames',fontsize=16)\n",
    "plt.ylabel('Density',fontsize=16)\n",
    "#plt.title('Dataset JNSM_VoD_flashcrowd_1')\n",
    "#plt.savefig('sample2_VoD', bbox_inches='tight')\n",
    "plt.show()\n",
    "\n",
    "print('Measured y-value: %s' %Y_VoD_outlier_test.iloc[1])"
   ]
  },
  {
   "cell_type": "code",
   "execution_count": 136,
   "id": "97c32d73",
   "metadata": {},
   "outputs": [
    {
     "data": {
      "image/png": "[encoded data removed]",
      "text/plain": [
       "<Figure size 700x300 with 1 Axes>"
      ]
     },
     "metadata": {},
     "output_type": "display_data"
    },
    {
     "name": "stdout",
     "output_type": "stream",
     "text": [
      "Measured y-value: 58.4944\n"
     ]
    },
    {
     "data": {
      "image/png": "[encoded data removed]",
      "text/plain": [
       "<Figure size 700x300 with 1 Axes>"
      ]
     },
     "metadata": {},
     "output_type": "display_data"
    },
    {
     "name": "stdout",
     "output_type": "stream",
     "text": [
      "Measured y-value: 59.9823\n"
     ]
    }
   ],
   "source": [
    "#For dataset JNSM_KV_flashcrowd_1 \n",
    "\n",
    "#First two samples\n",
    "samples_KV = X_KV_outlier_test.iloc[0:2,:]\n",
    "samples_KV_class_prob = rand_forest_KV.predict_proba(samples_KV)\n",
    "\n",
    "\n",
    "#Plots\n",
    "labels = lab.inverse_transform(np.arange(0,18,1))\n",
    "\n",
    "plt.figure(figsize = (7,3))\n",
    "plt.bar(labels,samples_KV_class_prob[0], width=labels[1]-labels[0],align='center', linewidth=2, color = \"lightblue\", ec=\"red\")\n",
    "plt.xlabel('ReadsAvg', fontsize=16)\n",
    "plt.ylabel('Density', fontsize=16)\n",
    "#plt.title('Dataset JNSM_KV_flashcrowd_1')\n",
    "plt.savefig('sample1_KV', bbox_inches='tight')\n",
    "plt.show()\n",
    "\n",
    "print('Measured y-value: %s' %Y_KV_outlier_test.iloc[0])\n",
    "\n",
    "plt.figure(figsize = (7,3))\n",
    "plt.bar(labels,samples_KV_class_prob[1], width=labels[1]-labels[0],align='center', linewidth=2, color = \"lightblue\", ec=\"red\")\n",
    "plt.xlabel('ReadsAvg', fontsize=16)\n",
    "plt.ylabel('Density', fontsize=16)\n",
    "#plt.title('Dataset JNSM_KV_flashcrowd_1')\n",
    "plt.savefig('sample2_KV', bbox_inches='tight')\n",
    "plt.show()\n",
    "\n",
    "print('Measured y-value: %s' %Y_KV_outlier_test.iloc[1])"
   ]
  },
  {
   "cell_type": "code",
   "execution_count": null,
   "id": "c0bc3759",
   "metadata": {},
   "outputs": [],
   "source": []
  }
 ],
 "metadata": {
  "kernelspec": {
   "display_name": "tf",
   "language": "python",
   "name": "tf"
  },
  "language_info": {
   "codemirror_mode": {
    "name": "ipython",
    "version": 3
   },
   "file_extension": ".py",
   "mimetype": "text/x-python",
   "name": "python",
   "nbconvert_exporter": "python",
   "pygments_lexer": "ipython3",
   "version": "3.10.6"
  }
 },
 "nbformat": 4,
 "nbformat_minor": 5
}
