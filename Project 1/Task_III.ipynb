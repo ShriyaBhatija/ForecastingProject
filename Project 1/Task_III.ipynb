{
 "cells": [
  {
   "cell_type": "markdown",
   "id": "8ed130f1",
   "metadata": {},
   "source": [
    "## Task III - Studying the Impact of Data Pre-processing and Outlier Removal on the Prediction Accuracy"
   ]
  },
  {
   "cell_type": "code",
   "execution_count": 1,
   "id": "5f56cca7",
   "metadata": {},
   "outputs": [],
   "source": [
    "from sklearn.linear_model import LinearRegression\n",
    "from sklearn.ensemble import RandomForestRegressor"
   ]
  },
  {
   "cell_type": "code",
   "execution_count": null,
   "id": "50fc8470",
   "metadata": {},
   "outputs": [],
   "source": [
    "%run Task_I.ipynb"
   ]
  },
  {
   "cell_type": "markdown",
   "id": "f2e5ba7b",
   "metadata": {},
   "source": [
    "### Task 3.2\n",
    "Perform a comparative study to find out, for each of the regression methods, which of the pre-processing method performs best on X1,...,X7. Which pre-processing method works well for all regression methods?"
   ]
  },
  {
   "cell_type": "code",
   "execution_count": 4,
   "id": "81d99636",
   "metadata": {},
   "outputs": [],
   "source": [
    "def NMAE_reg(features,labels):\n",
    "    reg = LinearRegression(fit_intercept=True)\n",
    "    reg.fit(features, labels)\n",
    "    return ((1/np.mean(labels))*mean_absolute_error(reg.predict(features),labels))"
   ]
  },
  {
   "cell_type": "code",
   "execution_count": 6,
   "id": "5bbef501",
   "metadata": {},
   "outputs": [
    {
     "name": "stdout",
     "output_type": "stream",
     "text": [
      "0.016352928606288328 0.01661000207216561 0.01632909493400075 0.016451538148400856 0.016355733531246912 0.01635017665562118 0.016321634147124026\n"
     ]
    }
   ],
   "source": [
    "print(NMAE_reg(X_KV,Y_KV['ReadsAvg']),\n",
    "NMAE_reg(X_KV_columns_l2norm ,Y_KV['ReadsAvg']),\n",
    "NMAE_reg(X_KV_rows_l2norm ,Y_KV['ReadsAvg']),\n",
    "NMAE_reg(X_KV_columns_range,Y_KV['ReadsAvg']),\n",
    "NMAE_reg(X_KV_rows_range,Y_KV['ReadsAvg']),\n",
    "NMAE_reg(X_KV_columns_scaled,Y_KV['ReadsAvg']),\n",
    "NMAE_reg(X_KV_rows_scaled ,Y_KV['ReadsAvg']))"
   ]
  },
  {
   "cell_type": "code",
   "execution_count": 7,
   "id": "1c01f2ab",
   "metadata": {},
   "outputs": [
    {
     "name": "stdout",
     "output_type": "stream",
     "text": [
      "0.10125195377516152 0.10712271072888761 0.10169430273784008 0.10145724243311449 0.10136633121114674 0.10129533615991955 0.10171727466457231\n"
     ]
    }
   ],
   "source": [
    "print(NMAE_reg(X_VoD,Y_VoD['DispFrames']),\n",
    "NMAE_reg(X_VoD_columns_l2norm,Y_VoD['DispFrames']),\n",
    "NMAE_reg(X_VoD_rows_l2norm,Y_VoD['DispFrames']),\n",
    "NMAE_reg(X_VoD_columns_range,Y_VoD['DispFrames']),\n",
    "NMAE_reg(X_VoD_rows_range,Y_VoD['DispFrames']),\n",
    "NMAE_reg(X_VoD_columns_scaled,Y_VoD['DispFrames']),\n",
    "NMAE_reg(X_VoD_rows_scaled,Y_VoD['DispFrames']))"
   ]
  },
  {
   "cell_type": "code",
   "execution_count": 9,
   "id": "7885eebd",
   "metadata": {},
   "outputs": [],
   "source": [
    "def NMAE_rand_forest(features,labels):\n",
    "    rand_forest = RandomForestRegressor(n_estimators=20, max_depth=10) #Criterion = 'absolute_error' takes forever\n",
    "    rand_forest.fit(features, labels)\n",
    "    return ((1/np.mean(labels))*mean_absolute_error(rand_forest.predict(features),labels))"
   ]
  },
  {
   "cell_type": "code",
   "execution_count": null,
   "id": "44d39ecc",
   "metadata": {},
   "outputs": [],
   "source": [
    "print(NMAE_rand_forest(X_KV,Y_KV['ReadsAvg']),\n",
    "NMAE_rand_forest(X_KV_columns_l2norm,Y_KV['ReadsAvg']),\n",
    "NMAE_rand_forest(X_KV_rows_l2norm,Y_KV['ReadsAvg']),\n",
    "NMAE_rand_forest(X_KV_columns_range,Y_KV['ReadsAvg']),\n",
    "NMAE_rand_forest(X_KV_rows_range,Y_KV['ReadsAvg']),\n",
    "NMAE_rand_forest(X_KV_columns_scaled,Y_KV['ReadsAvg']),\n",
    "NMAE_rand_forest(X_KV_rows_scaled,Y_KV['ReadsAvg']))"
   ]
  },
  {
   "cell_type": "code",
   "execution_count": null,
   "id": "a91a3f38",
   "metadata": {},
   "outputs": [],
   "source": [
    "print(NMAE_rand_forest(X_VoD,Y_VoD['DispFrames']),\n",
    "NMAE_rand_forest(X_VoD_columns_l2norm ,Y_VoD['DispFrames']),\n",
    "NMAE_rand_forest(X_VoD_rows_l2norm,Y_VoD['DispFrames']),\n",
    "NMAE_rand_forest(X_VoD_columns_range,Y_VoD['DispFrames']),\n",
    "NMAE_rand_forest(X_VoD_rows_range,Y_VoD['DispFrames']),\n",
    "NMAE_rand_forest(X_VoD_columns_scaled,Y_VoD['DispFrames']),\n",
    "NMAE_rand_forest(X_VoD_rows_scaled,Y_VoD['DispFrames']))"
   ]
  },
  {
   "cell_type": "code",
   "execution_count": null,
   "id": "de44872c",
   "metadata": {},
   "outputs": [],
   "source": [
    "from tensorflow import keras\n",
    "from tensorflow.keras import layers\n",
    "\n",
    "def NMAE_NN(features,labels):\n",
    "    model = keras.Sequential()\n",
    "    model.add(layers.Dense(10, input_dim=features.shape[1], activation='relu'))\n",
    "    model.add(layers.Dense(10, activation='relu'))\n",
    "    model.add(layers.Dense(10, activation='relu'))\n",
    "    model.add(layers.Dense(1, activation='linear'))\n",
    "    opt = keras.optimizers.Adam(learning_rate=1e-4)\n",
    "    model.compile(loss='mse', optimizer=opt) #loss='mean_squared_error'\n",
    "    model.fit(features, labels, batch_size=64, epochs=5000, verbose=1)\n",
    "    return ((1/np.mean(labels))*mean_absolute_error(model.predict(features),labels))"
   ]
  },
  {
   "cell_type": "code",
   "execution_count": null,
   "id": "c1ef95c5",
   "metadata": {},
   "outputs": [],
   "source": [
    "print(NMAE_NN(X_KV,Y_KV['ReadsAvg']),\n",
    "NMAE_NN(X_KV_columns_l2norm,Y_KV['ReadsAvg']),\n",
    "NMAE_NN(X_KV_rows_l2norm,Y_KV['ReadsAvg']),\n",
    "NMAE_NN(X_KV_columns_range,Y_KV['ReadsAvg']),\n",
    "NMAE_NN(X_KV_rows_range,Y_KV['ReadsAvg']),\n",
    "NMAE_NN(X_KV_columns_scaled,Y_KV['ReadsAvg']),\n",
    "NMAE_NN(X_KV_rows_scaled,Y_KV['ReadsAvg']))"
   ]
  },
  {
   "cell_type": "code",
   "execution_count": null,
   "id": "04604fac",
   "metadata": {},
   "outputs": [],
   "source": [
    "NMAE_NN(X_VoD,Y_VoD['DispFrames'])\n",
    "NMAE_NN(X_VoD_columns_l2norm,Y_VoD['DispFrames'])\n",
    "NMAE_NN(X_VoD_rows_l2norm,Y_VoD['DispFrames'])\n",
    "NMAE_NN(X_VoD_columns_range,Y_VoD['DispFrames'])\n",
    "NMAE_NN(X_VoD_rows_range,Y_VoD['DispFrames'])\n",
    "NMAE_NN(X_VoD_columns_scaled,Y_VoD['DispFrames'])\n",
    "NMAE_NN(X_VoD_rows_scaled,Y_VoD['DispFrames'])"
   ]
  },
  {
   "cell_type": "markdown",
   "id": "60e6ab0e",
   "metadata": {},
   "source": [
    "### Task 3.3 \n",
    "Detect and remove outliers. Take the design matrix whose feature columns are standardized (see above). We call a sample an outlier when one of its components has an absolute value larger than a given threshold T. Compute and plot the number of outliers of your data set in function of T.\n",
    "The idea is that once the threshold T is decided, all samples with components whose absolute values are larger than T are removed from the data set."
   ]
  },
  {
   "cell_type": "code",
   "execution_count": 11,
   "id": "29082b38",
   "metadata": {},
   "outputs": [],
   "source": [
    "X_KV_columns_scaled = pd.DataFrame(X_KV_columns_scaled)\n",
    "X_VoD_columns_scaled = pd.DataFrame(X_VoD_columns_scaled) "
   ]
  },
  {
   "cell_type": "code",
   "execution_count": 12,
   "id": "b13b9d81",
   "metadata": {},
   "outputs": [],
   "source": [
    "# Function that counts the number of outliers depending on threshold\n",
    "def count(features,thr): \n",
    "    counter = 0\n",
    "    features = features.T\n",
    "    for col in features:\n",
    "        if any(np.absolute(features[col]) >= thr):\n",
    "            counter += 1\n",
    "    return counter"
   ]
  },
  {
   "cell_type": "code",
   "execution_count": null,
   "id": "9007b676",
   "metadata": {
    "scrolled": true
   },
   "outputs": [],
   "source": [
    "#Plot of the number of outliers in function of T.\n",
    "\n",
    "points = np.linspace(0,60,30) #Sample 30 points to improve computational time \n",
    "\n",
    "def outliers_plot(features): \n",
    "    counter = []\n",
    "    for thr in points:\n",
    "        counter.append(count(features,thr))\n",
    "    return counter\n",
    "\n",
    "plt.figure(figsize=(7, 3))\n",
    "plt.plot(points, outliers_plot(X_KV_columns_scaled))\n",
    "plt.plot(points, outliers_plot(X_VoD_columns_scaled))\n",
    "#plt.title('',fontsize=12)\n",
    "plt.xlabel(\"Threshold\")\n",
    "plt.ylabel(\"Number of outliers\")\n",
    "plt.legend(['JNSM_KV_flashcrowd_1','JNSM_VoD_flashcrowd_1'])\n",
    "plt.xlim([0,60])\n",
    "plt.ylim([0,20000])\n",
    "#plt.savefig('Nr_outliers.png',bbox_inches='tight')\n",
    "plt.show()"
   ]
  },
  {
   "cell_type": "markdown",
   "id": "abb9e73c",
   "metadata": {},
   "source": [
    "### Task 3.4\n",
    "Investigate the error of a regressor in function of T for your data set. Start with the original data set S and produce reduced data sets S1, ..., S10 for T = 10, 20, 30, ...100. For each Si use linear regression and random forest methods and evaluate the learned models. Assess the effect of outlier removal for both methods by producing a plot that shows the error (NMAE) in function of T."
   ]
  },
  {
   "cell_type": "code",
   "execution_count": 5,
   "id": "16b55dad",
   "metadata": {},
   "outputs": [],
   "source": [
    "# Function that removes outliers from the features matrix as well as the target scores\n",
    "# Note: Input is of the format pd.DataFrame\n",
    "def outlier_detection(features, labels, thr): \n",
    "    features = features.T\n",
    "    for col in features:\n",
    "        if any(np.absolute(features[col]) >= thr):\n",
    "            features = features.drop([col],axis=1)\n",
    "            labels = labels.drop([col],axis=0)\n",
    "    return features.T, labels #Returns reduced feature matrix and target scores"
   ]
  },
  {
   "cell_type": "code",
   "execution_count": null,
   "id": "0c24498a",
   "metadata": {},
   "outputs": [],
   "source": [
    "#Define a function which returns predictions of a Linear Regression model\n",
    "def prediction_reg_KV(thr):\n",
    "    reg = LinearRegression(fit_intercept=True).fit(outlier_detection(X_KV_columns_scaled,Y_KV['ReadsAvg'],thr)[0],outlier_detection(X_KV_columns_scaled,Y_KV['ReadsAvg'],thr)[1])                                                \n",
    "    return reg.predict(outlier_detection(X_KV_columns_scaled,Y_KV['ReadsAvg'],thr)[0])\n",
    "\n",
    "errors_reg_KV =[]\n",
    "\n",
    "#For each threshold value iterate through the NMAE\n",
    "for thr in range(0,101,10):\n",
    "    if outlier_detection(X_KV_columns_scaled,Y_KV['ReadsAvg'],thr)[0].shape[0] >= 1: \n",
    "        errors_reg_KV.append((1/np.mean(outlier_detection(X_KV_columns_scaled,Y_KV['ReadsAvg'],thr)[1]))*mean_absolute_error(prediction_reg_KV(thr),outlier_detection(X_KV_columns_scaled,Y_KV['ReadsAvg'],thr)[1]))\n",
    "    else: \n",
    "        errors_reg_KV = errors_reg_KV\n",
    "        \n",
    "%store errors_reg_KV"
   ]
  },
  {
   "cell_type": "code",
   "execution_count": 9,
   "id": "75dfb03a",
   "metadata": {},
   "outputs": [],
   "source": [
    "%store -r errors_reg_KV"
   ]
  },
  {
   "cell_type": "code",
   "execution_count": 13,
   "id": "05778078",
   "metadata": {},
   "outputs": [
    {
     "ename": "KeyboardInterrupt",
     "evalue": "",
     "output_type": "error",
     "traceback": [
      "\u001b[0;31m---------------------------------------------------------------------------\u001b[0m",
      "\u001b[0;31mKeyboardInterrupt\u001b[0m                         Traceback (most recent call last)",
      "Cell \u001b[0;32mIn [13], line 11\u001b[0m\n\u001b[1;32m      9\u001b[0m \u001b[38;5;28;01mfor\u001b[39;00m thr \u001b[38;5;129;01min\u001b[39;00m \u001b[38;5;28mrange\u001b[39m(\u001b[38;5;241m10\u001b[39m,\u001b[38;5;241m101\u001b[39m,\u001b[38;5;241m10\u001b[39m):\n\u001b[1;32m     10\u001b[0m     \u001b[38;5;28;01mif\u001b[39;00m outlier_detection(features_VoD_columns_scaled,Y_VoD[\u001b[38;5;124m'\u001b[39m\u001b[38;5;124mDispFrames\u001b[39m\u001b[38;5;124m'\u001b[39m],thr)[\u001b[38;5;241m0\u001b[39m]\u001b[38;5;241m.\u001b[39mshape[\u001b[38;5;241m0\u001b[39m] \u001b[38;5;241m>\u001b[39m\u001b[38;5;241m=\u001b[39m \u001b[38;5;241m1\u001b[39m: \n\u001b[0;32m---> 11\u001b[0m         errors_reg_VoD\u001b[38;5;241m.\u001b[39mappend((\u001b[38;5;241m1\u001b[39m\u001b[38;5;241m/\u001b[39mnp\u001b[38;5;241m.\u001b[39mmean(outlier_detection(features_VoD_columns_scaled,Y_VoD[\u001b[38;5;124m'\u001b[39m\u001b[38;5;124mDispFrames\u001b[39m\u001b[38;5;124m'\u001b[39m],thr)[\u001b[38;5;241m1\u001b[39m]))\u001b[38;5;241m*\u001b[39mmean_absolute_error(\u001b[43mprediction_reg_VoD\u001b[49m\u001b[43m(\u001b[49m\u001b[43mthr\u001b[49m\u001b[43m)\u001b[49m,outlier_detection(features_VoD_columns_scaled,Y_VoD[\u001b[38;5;124m'\u001b[39m\u001b[38;5;124mDispFrames\u001b[39m\u001b[38;5;124m'\u001b[39m],thr)[\u001b[38;5;241m1\u001b[39m]))\n\u001b[1;32m     12\u001b[0m     \u001b[38;5;28;01melse\u001b[39;00m: \n\u001b[1;32m     13\u001b[0m         errors_reg_VoD \u001b[38;5;241m=\u001b[39m errors_reg_VoD\n",
      "Cell \u001b[0;32mIn [13], line 4\u001b[0m, in \u001b[0;36mprediction_reg_VoD\u001b[0;34m(thr)\u001b[0m\n\u001b[1;32m      2\u001b[0m \u001b[38;5;28;01mdef\u001b[39;00m \u001b[38;5;21mprediction_reg_VoD\u001b[39m(thr):\n\u001b[1;32m      3\u001b[0m     reg \u001b[38;5;241m=\u001b[39m LinearRegression(fit_intercept\u001b[38;5;241m=\u001b[39m\u001b[38;5;28;01mTrue\u001b[39;00m)\u001b[38;5;241m.\u001b[39mfit(outlier_detection(features_VoD_columns_scaled,Y_VoD[\u001b[38;5;124m'\u001b[39m\u001b[38;5;124mDispFrames\u001b[39m\u001b[38;5;124m'\u001b[39m],thr)[\u001b[38;5;241m0\u001b[39m],outlier_detection(features_VoD_columns_scaled,Y_VoD[\u001b[38;5;124m'\u001b[39m\u001b[38;5;124mDispFrames\u001b[39m\u001b[38;5;124m'\u001b[39m],thr)[\u001b[38;5;241m1\u001b[39m])                                                \n\u001b[0;32m----> 4\u001b[0m     \u001b[38;5;28;01mreturn\u001b[39;00m reg\u001b[38;5;241m.\u001b[39mpredict(\u001b[43moutlier_detection\u001b[49m\u001b[43m(\u001b[49m\u001b[43mfeatures_VoD_columns_scaled\u001b[49m\u001b[43m,\u001b[49m\u001b[43mY_VoD\u001b[49m\u001b[43m[\u001b[49m\u001b[38;5;124;43m'\u001b[39;49m\u001b[38;5;124;43mDispFrames\u001b[39;49m\u001b[38;5;124;43m'\u001b[39;49m\u001b[43m]\u001b[49m\u001b[43m,\u001b[49m\u001b[43mthr\u001b[49m\u001b[43m)\u001b[49m[\u001b[38;5;241m0\u001b[39m])\n",
      "Cell \u001b[0;32mIn [5], line 7\u001b[0m, in \u001b[0;36moutlier_detection\u001b[0;34m(features, labels, thr)\u001b[0m\n\u001b[1;32m      5\u001b[0m \u001b[38;5;28;01mfor\u001b[39;00m col \u001b[38;5;129;01min\u001b[39;00m features:\n\u001b[1;32m      6\u001b[0m     \u001b[38;5;28;01mif\u001b[39;00m \u001b[38;5;28many\u001b[39m(np\u001b[38;5;241m.\u001b[39mabsolute(features[col]) \u001b[38;5;241m>\u001b[39m\u001b[38;5;241m=\u001b[39m thr):\n\u001b[0;32m----> 7\u001b[0m         features \u001b[38;5;241m=\u001b[39m \u001b[43mfeatures\u001b[49m\u001b[38;5;241;43m.\u001b[39;49m\u001b[43mdrop\u001b[49m\u001b[43m(\u001b[49m\u001b[43m[\u001b[49m\u001b[43mcol\u001b[49m\u001b[43m]\u001b[49m\u001b[43m,\u001b[49m\u001b[43maxis\u001b[49m\u001b[38;5;241;43m=\u001b[39;49m\u001b[38;5;241;43m1\u001b[39;49m\u001b[43m)\u001b[49m\n\u001b[1;32m      8\u001b[0m         labels \u001b[38;5;241m=\u001b[39m labels\u001b[38;5;241m.\u001b[39mdrop([col],axis\u001b[38;5;241m=\u001b[39m\u001b[38;5;241m0\u001b[39m)\n\u001b[1;32m      9\u001b[0m \u001b[38;5;28;01mreturn\u001b[39;00m features\u001b[38;5;241m.\u001b[39mT, labels\n",
      "File \u001b[0;32m~/opt/anaconda3/envs/tf/lib/python3.10/site-packages/pandas/util/_decorators.py:331\u001b[0m, in \u001b[0;36mdeprecate_nonkeyword_arguments.<locals>.decorate.<locals>.wrapper\u001b[0;34m(*args, **kwargs)\u001b[0m\n\u001b[1;32m    325\u001b[0m \u001b[38;5;28;01mif\u001b[39;00m \u001b[38;5;28mlen\u001b[39m(args) \u001b[38;5;241m>\u001b[39m num_allow_args:\n\u001b[1;32m    326\u001b[0m     warnings\u001b[38;5;241m.\u001b[39mwarn(\n\u001b[1;32m    327\u001b[0m         msg\u001b[38;5;241m.\u001b[39mformat(arguments\u001b[38;5;241m=\u001b[39m_format_argument_list(allow_args)),\n\u001b[1;32m    328\u001b[0m         \u001b[38;5;167;01mFutureWarning\u001b[39;00m,\n\u001b[1;32m    329\u001b[0m         stacklevel\u001b[38;5;241m=\u001b[39mfind_stack_level(),\n\u001b[1;32m    330\u001b[0m     )\n\u001b[0;32m--> 331\u001b[0m \u001b[38;5;28;01mreturn\u001b[39;00m \u001b[43mfunc\u001b[49m\u001b[43m(\u001b[49m\u001b[38;5;241;43m*\u001b[39;49m\u001b[43margs\u001b[49m\u001b[43m,\u001b[49m\u001b[43m \u001b[49m\u001b[38;5;241;43m*\u001b[39;49m\u001b[38;5;241;43m*\u001b[39;49m\u001b[43mkwargs\u001b[49m\u001b[43m)\u001b[49m\n",
      "File \u001b[0;32m~/opt/anaconda3/envs/tf/lib/python3.10/site-packages/pandas/core/frame.py:5388\u001b[0m, in \u001b[0;36mDataFrame.drop\u001b[0;34m(self, labels, axis, index, columns, level, inplace, errors)\u001b[0m\n\u001b[1;32m   5240\u001b[0m \u001b[38;5;129m@deprecate_nonkeyword_arguments\u001b[39m(version\u001b[38;5;241m=\u001b[39m\u001b[38;5;28;01mNone\u001b[39;00m, allowed_args\u001b[38;5;241m=\u001b[39m[\u001b[38;5;124m\"\u001b[39m\u001b[38;5;124mself\u001b[39m\u001b[38;5;124m\"\u001b[39m, \u001b[38;5;124m\"\u001b[39m\u001b[38;5;124mlabels\u001b[39m\u001b[38;5;124m\"\u001b[39m])\n\u001b[1;32m   5241\u001b[0m \u001b[38;5;28;01mdef\u001b[39;00m \u001b[38;5;21mdrop\u001b[39m(  \u001b[38;5;66;03m# type: ignore[override]\u001b[39;00m\n\u001b[1;32m   5242\u001b[0m     \u001b[38;5;28mself\u001b[39m,\n\u001b[0;32m   (...)\u001b[0m\n\u001b[1;32m   5249\u001b[0m     errors: IgnoreRaise \u001b[38;5;241m=\u001b[39m \u001b[38;5;124m\"\u001b[39m\u001b[38;5;124mraise\u001b[39m\u001b[38;5;124m\"\u001b[39m,\n\u001b[1;32m   5250\u001b[0m ) \u001b[38;5;241m-\u001b[39m\u001b[38;5;241m>\u001b[39m DataFrame \u001b[38;5;241m|\u001b[39m \u001b[38;5;28;01mNone\u001b[39;00m:\n\u001b[1;32m   5251\u001b[0m     \u001b[38;5;124;03m\"\"\"\u001b[39;00m\n\u001b[1;32m   5252\u001b[0m \u001b[38;5;124;03m    Drop specified labels from rows or columns.\u001b[39;00m\n\u001b[1;32m   5253\u001b[0m \n\u001b[0;32m   (...)\u001b[0m\n\u001b[1;32m   5386\u001b[0m \u001b[38;5;124;03m            weight  1.0     0.8\u001b[39;00m\n\u001b[1;32m   5387\u001b[0m \u001b[38;5;124;03m    \"\"\"\u001b[39;00m\n\u001b[0;32m-> 5388\u001b[0m     \u001b[38;5;28;01mreturn\u001b[39;00m \u001b[38;5;28;43msuper\u001b[39;49m\u001b[43m(\u001b[49m\u001b[43m)\u001b[49m\u001b[38;5;241;43m.\u001b[39;49m\u001b[43mdrop\u001b[49m\u001b[43m(\u001b[49m\n\u001b[1;32m   5389\u001b[0m \u001b[43m        \u001b[49m\u001b[43mlabels\u001b[49m\u001b[38;5;241;43m=\u001b[39;49m\u001b[43mlabels\u001b[49m\u001b[43m,\u001b[49m\n\u001b[1;32m   5390\u001b[0m \u001b[43m        \u001b[49m\u001b[43maxis\u001b[49m\u001b[38;5;241;43m=\u001b[39;49m\u001b[43maxis\u001b[49m\u001b[43m,\u001b[49m\n\u001b[1;32m   5391\u001b[0m \u001b[43m        \u001b[49m\u001b[43mindex\u001b[49m\u001b[38;5;241;43m=\u001b[39;49m\u001b[43mindex\u001b[49m\u001b[43m,\u001b[49m\n\u001b[1;32m   5392\u001b[0m \u001b[43m        \u001b[49m\u001b[43mcolumns\u001b[49m\u001b[38;5;241;43m=\u001b[39;49m\u001b[43mcolumns\u001b[49m\u001b[43m,\u001b[49m\n\u001b[1;32m   5393\u001b[0m \u001b[43m        \u001b[49m\u001b[43mlevel\u001b[49m\u001b[38;5;241;43m=\u001b[39;49m\u001b[43mlevel\u001b[49m\u001b[43m,\u001b[49m\n\u001b[1;32m   5394\u001b[0m \u001b[43m        \u001b[49m\u001b[43minplace\u001b[49m\u001b[38;5;241;43m=\u001b[39;49m\u001b[43minplace\u001b[49m\u001b[43m,\u001b[49m\n\u001b[1;32m   5395\u001b[0m \u001b[43m        \u001b[49m\u001b[43merrors\u001b[49m\u001b[38;5;241;43m=\u001b[39;49m\u001b[43merrors\u001b[49m\u001b[43m,\u001b[49m\n\u001b[1;32m   5396\u001b[0m \u001b[43m    \u001b[49m\u001b[43m)\u001b[49m\n",
      "File \u001b[0;32m~/opt/anaconda3/envs/tf/lib/python3.10/site-packages/pandas/util/_decorators.py:331\u001b[0m, in \u001b[0;36mdeprecate_nonkeyword_arguments.<locals>.decorate.<locals>.wrapper\u001b[0;34m(*args, **kwargs)\u001b[0m\n\u001b[1;32m    325\u001b[0m \u001b[38;5;28;01mif\u001b[39;00m \u001b[38;5;28mlen\u001b[39m(args) \u001b[38;5;241m>\u001b[39m num_allow_args:\n\u001b[1;32m    326\u001b[0m     warnings\u001b[38;5;241m.\u001b[39mwarn(\n\u001b[1;32m    327\u001b[0m         msg\u001b[38;5;241m.\u001b[39mformat(arguments\u001b[38;5;241m=\u001b[39m_format_argument_list(allow_args)),\n\u001b[1;32m    328\u001b[0m         \u001b[38;5;167;01mFutureWarning\u001b[39;00m,\n\u001b[1;32m    329\u001b[0m         stacklevel\u001b[38;5;241m=\u001b[39mfind_stack_level(),\n\u001b[1;32m    330\u001b[0m     )\n\u001b[0;32m--> 331\u001b[0m \u001b[38;5;28;01mreturn\u001b[39;00m \u001b[43mfunc\u001b[49m\u001b[43m(\u001b[49m\u001b[38;5;241;43m*\u001b[39;49m\u001b[43margs\u001b[49m\u001b[43m,\u001b[49m\u001b[43m \u001b[49m\u001b[38;5;241;43m*\u001b[39;49m\u001b[38;5;241;43m*\u001b[39;49m\u001b[43mkwargs\u001b[49m\u001b[43m)\u001b[49m\n",
      "File \u001b[0;32m~/opt/anaconda3/envs/tf/lib/python3.10/site-packages/pandas/core/generic.py:4505\u001b[0m, in \u001b[0;36mNDFrame.drop\u001b[0;34m(self, labels, axis, index, columns, level, inplace, errors)\u001b[0m\n\u001b[1;32m   4503\u001b[0m \u001b[38;5;28;01mfor\u001b[39;00m axis, labels \u001b[38;5;129;01min\u001b[39;00m axes\u001b[38;5;241m.\u001b[39mitems():\n\u001b[1;32m   4504\u001b[0m     \u001b[38;5;28;01mif\u001b[39;00m labels \u001b[38;5;129;01mis\u001b[39;00m \u001b[38;5;129;01mnot\u001b[39;00m \u001b[38;5;28;01mNone\u001b[39;00m:\n\u001b[0;32m-> 4505\u001b[0m         obj \u001b[38;5;241m=\u001b[39m \u001b[43mobj\u001b[49m\u001b[38;5;241;43m.\u001b[39;49m\u001b[43m_drop_axis\u001b[49m\u001b[43m(\u001b[49m\u001b[43mlabels\u001b[49m\u001b[43m,\u001b[49m\u001b[43m \u001b[49m\u001b[43maxis\u001b[49m\u001b[43m,\u001b[49m\u001b[43m \u001b[49m\u001b[43mlevel\u001b[49m\u001b[38;5;241;43m=\u001b[39;49m\u001b[43mlevel\u001b[49m\u001b[43m,\u001b[49m\u001b[43m \u001b[49m\u001b[43merrors\u001b[49m\u001b[38;5;241;43m=\u001b[39;49m\u001b[43merrors\u001b[49m\u001b[43m)\u001b[49m\n\u001b[1;32m   4507\u001b[0m \u001b[38;5;28;01mif\u001b[39;00m inplace:\n\u001b[1;32m   4508\u001b[0m     \u001b[38;5;28mself\u001b[39m\u001b[38;5;241m.\u001b[39m_update_inplace(obj)\n",
      "File \u001b[0;32m~/opt/anaconda3/envs/tf/lib/python3.10/site-packages/pandas/core/generic.py:4585\u001b[0m, in \u001b[0;36mNDFrame._drop_axis\u001b[0;34m(self, labels, axis, level, errors, only_slice)\u001b[0m\n\u001b[1;32m   4582\u001b[0m     new_axis \u001b[38;5;241m=\u001b[39m axis\u001b[38;5;241m.\u001b[39mtake(indexer)\n\u001b[1;32m   4584\u001b[0m bm_axis \u001b[38;5;241m=\u001b[39m \u001b[38;5;28mself\u001b[39m\u001b[38;5;241m.\u001b[39mndim \u001b[38;5;241m-\u001b[39m axis_num \u001b[38;5;241m-\u001b[39m \u001b[38;5;241m1\u001b[39m\n\u001b[0;32m-> 4585\u001b[0m new_mgr \u001b[38;5;241m=\u001b[39m \u001b[38;5;28;43mself\u001b[39;49m\u001b[38;5;241;43m.\u001b[39;49m\u001b[43m_mgr\u001b[49m\u001b[38;5;241;43m.\u001b[39;49m\u001b[43mreindex_indexer\u001b[49m\u001b[43m(\u001b[49m\n\u001b[1;32m   4586\u001b[0m \u001b[43m    \u001b[49m\u001b[43mnew_axis\u001b[49m\u001b[43m,\u001b[49m\n\u001b[1;32m   4587\u001b[0m \u001b[43m    \u001b[49m\u001b[43mindexer\u001b[49m\u001b[43m,\u001b[49m\n\u001b[1;32m   4588\u001b[0m \u001b[43m    \u001b[49m\u001b[43maxis\u001b[49m\u001b[38;5;241;43m=\u001b[39;49m\u001b[43mbm_axis\u001b[49m\u001b[43m,\u001b[49m\n\u001b[1;32m   4589\u001b[0m \u001b[43m    \u001b[49m\u001b[43mallow_dups\u001b[49m\u001b[38;5;241;43m=\u001b[39;49m\u001b[38;5;28;43;01mTrue\u001b[39;49;00m\u001b[43m,\u001b[49m\n\u001b[1;32m   4590\u001b[0m \u001b[43m    \u001b[49m\u001b[43monly_slice\u001b[49m\u001b[38;5;241;43m=\u001b[39;49m\u001b[43monly_slice\u001b[49m\u001b[43m,\u001b[49m\n\u001b[1;32m   4591\u001b[0m \u001b[43m\u001b[49m\u001b[43m)\u001b[49m\n\u001b[1;32m   4592\u001b[0m result \u001b[38;5;241m=\u001b[39m \u001b[38;5;28mself\u001b[39m\u001b[38;5;241m.\u001b[39m_constructor(new_mgr)\n\u001b[1;32m   4593\u001b[0m \u001b[38;5;28;01mif\u001b[39;00m \u001b[38;5;28mself\u001b[39m\u001b[38;5;241m.\u001b[39mndim \u001b[38;5;241m==\u001b[39m \u001b[38;5;241m1\u001b[39m:\n",
      "File \u001b[0;32m~/opt/anaconda3/envs/tf/lib/python3.10/site-packages/pandas/core/internals/managers.py:735\u001b[0m, in \u001b[0;36mBaseBlockManager.reindex_indexer\u001b[0;34m(self, new_axis, indexer, axis, fill_value, allow_dups, copy, only_slice, use_na_proxy)\u001b[0m\n\u001b[1;32m    732\u001b[0m     \u001b[38;5;28;01mraise\u001b[39;00m \u001b[38;5;167;01mIndexError\u001b[39;00m(\u001b[38;5;124m\"\u001b[39m\u001b[38;5;124mRequested axis not found in manager\u001b[39m\u001b[38;5;124m\"\u001b[39m)\n\u001b[1;32m    734\u001b[0m \u001b[38;5;28;01mif\u001b[39;00m axis \u001b[38;5;241m==\u001b[39m \u001b[38;5;241m0\u001b[39m:\n\u001b[0;32m--> 735\u001b[0m     new_blocks, new_refs \u001b[38;5;241m=\u001b[39m \u001b[38;5;28;43mself\u001b[39;49m\u001b[38;5;241;43m.\u001b[39;49m\u001b[43m_slice_take_blocks_ax0\u001b[49m\u001b[43m(\u001b[49m\n\u001b[1;32m    736\u001b[0m \u001b[43m        \u001b[49m\u001b[43mindexer\u001b[49m\u001b[43m,\u001b[49m\n\u001b[1;32m    737\u001b[0m \u001b[43m        \u001b[49m\u001b[43mfill_value\u001b[49m\u001b[38;5;241;43m=\u001b[39;49m\u001b[43mfill_value\u001b[49m\u001b[43m,\u001b[49m\n\u001b[1;32m    738\u001b[0m \u001b[43m        \u001b[49m\u001b[43monly_slice\u001b[49m\u001b[38;5;241;43m=\u001b[39;49m\u001b[43monly_slice\u001b[49m\u001b[43m,\u001b[49m\n\u001b[1;32m    739\u001b[0m \u001b[43m        \u001b[49m\u001b[43muse_na_proxy\u001b[49m\u001b[38;5;241;43m=\u001b[39;49m\u001b[43muse_na_proxy\u001b[49m\u001b[43m,\u001b[49m\n\u001b[1;32m    740\u001b[0m \u001b[43m    \u001b[49m\u001b[43m)\u001b[49m\n\u001b[1;32m    741\u001b[0m \u001b[38;5;28;01melse\u001b[39;00m:\n\u001b[1;32m    742\u001b[0m     new_blocks \u001b[38;5;241m=\u001b[39m [\n\u001b[1;32m    743\u001b[0m         blk\u001b[38;5;241m.\u001b[39mtake_nd(\n\u001b[1;32m    744\u001b[0m             indexer,\n\u001b[0;32m   (...)\u001b[0m\n\u001b[1;32m    750\u001b[0m         \u001b[38;5;28;01mfor\u001b[39;00m blk \u001b[38;5;129;01min\u001b[39;00m \u001b[38;5;28mself\u001b[39m\u001b[38;5;241m.\u001b[39mblocks\n\u001b[1;32m    751\u001b[0m     ]\n",
      "File \u001b[0;32m~/opt/anaconda3/envs/tf/lib/python3.10/site-packages/pandas/core/internals/managers.py:902\u001b[0m, in \u001b[0;36mBaseBlockManager._slice_take_blocks_ax0\u001b[0;34m(self, slice_or_indexer, fill_value, only_slice, use_na_proxy)\u001b[0m\n\u001b[1;32m    900\u001b[0m         refs\u001b[38;5;241m.\u001b[39mappend(weakref\u001b[38;5;241m.\u001b[39mref(blk))\n\u001b[1;32m    901\u001b[0m \u001b[38;5;28;01melse\u001b[39;00m:\n\u001b[0;32m--> 902\u001b[0m     nb \u001b[38;5;241m=\u001b[39m \u001b[43mblk\u001b[49m\u001b[38;5;241;43m.\u001b[39;49m\u001b[43mtake_nd\u001b[49m\u001b[43m(\u001b[49m\u001b[43mtaker\u001b[49m\u001b[43m,\u001b[49m\u001b[43m \u001b[49m\u001b[43maxis\u001b[49m\u001b[38;5;241;43m=\u001b[39;49m\u001b[38;5;241;43m0\u001b[39;49m\u001b[43m,\u001b[49m\u001b[43m \u001b[49m\u001b[43mnew_mgr_locs\u001b[49m\u001b[38;5;241;43m=\u001b[39;49m\u001b[43mmgr_locs\u001b[49m\u001b[43m)\u001b[49m\n\u001b[1;32m    903\u001b[0m     blocks\u001b[38;5;241m.\u001b[39mappend(nb)\n\u001b[1;32m    904\u001b[0m     refs\u001b[38;5;241m.\u001b[39mappend(\u001b[38;5;28;01mNone\u001b[39;00m)\n",
      "File \u001b[0;32m~/opt/anaconda3/envs/tf/lib/python3.10/site-packages/pandas/core/internals/blocks.py:878\u001b[0m, in \u001b[0;36mBlock.take_nd\u001b[0;34m(self, indexer, axis, new_mgr_locs, fill_value)\u001b[0m\n\u001b[1;32m    875\u001b[0m     allow_fill \u001b[38;5;241m=\u001b[39m \u001b[38;5;28;01mTrue\u001b[39;00m\n\u001b[1;32m    877\u001b[0m \u001b[38;5;66;03m# Note: algos.take_nd has upcast logic similar to coerce_to_target_dtype\u001b[39;00m\n\u001b[0;32m--> 878\u001b[0m new_values \u001b[38;5;241m=\u001b[39m \u001b[43malgos\u001b[49m\u001b[38;5;241;43m.\u001b[39;49m\u001b[43mtake_nd\u001b[49m\u001b[43m(\u001b[49m\n\u001b[1;32m    879\u001b[0m \u001b[43m    \u001b[49m\u001b[43mvalues\u001b[49m\u001b[43m,\u001b[49m\u001b[43m \u001b[49m\u001b[43mindexer\u001b[49m\u001b[43m,\u001b[49m\u001b[43m \u001b[49m\u001b[43maxis\u001b[49m\u001b[38;5;241;43m=\u001b[39;49m\u001b[43maxis\u001b[49m\u001b[43m,\u001b[49m\u001b[43m \u001b[49m\u001b[43mallow_fill\u001b[49m\u001b[38;5;241;43m=\u001b[39;49m\u001b[43mallow_fill\u001b[49m\u001b[43m,\u001b[49m\u001b[43m \u001b[49m\u001b[43mfill_value\u001b[49m\u001b[38;5;241;43m=\u001b[39;49m\u001b[43mfill_value\u001b[49m\n\u001b[1;32m    880\u001b[0m \u001b[43m\u001b[49m\u001b[43m)\u001b[49m\n\u001b[1;32m    882\u001b[0m \u001b[38;5;66;03m# Called from three places in managers, all of which satisfy\u001b[39;00m\n\u001b[1;32m    883\u001b[0m \u001b[38;5;66;03m#  this assertion\u001b[39;00m\n\u001b[1;32m    884\u001b[0m \u001b[38;5;28;01massert\u001b[39;00m \u001b[38;5;129;01mnot\u001b[39;00m (axis \u001b[38;5;241m==\u001b[39m \u001b[38;5;241m0\u001b[39m \u001b[38;5;129;01mand\u001b[39;00m new_mgr_locs \u001b[38;5;129;01mis\u001b[39;00m \u001b[38;5;28;01mNone\u001b[39;00m)\n",
      "File \u001b[0;32m~/opt/anaconda3/envs/tf/lib/python3.10/site-packages/pandas/core/array_algos/take.py:117\u001b[0m, in \u001b[0;36mtake_nd\u001b[0;34m(arr, indexer, axis, fill_value, allow_fill)\u001b[0m\n\u001b[1;32m    114\u001b[0m     \u001b[38;5;28;01mreturn\u001b[39;00m arr\u001b[38;5;241m.\u001b[39mtake(indexer, fill_value\u001b[38;5;241m=\u001b[39mfill_value, allow_fill\u001b[38;5;241m=\u001b[39mallow_fill)\n\u001b[1;32m    116\u001b[0m arr \u001b[38;5;241m=\u001b[39m np\u001b[38;5;241m.\u001b[39masarray(arr)\n\u001b[0;32m--> 117\u001b[0m \u001b[38;5;28;01mreturn\u001b[39;00m \u001b[43m_take_nd_ndarray\u001b[49m\u001b[43m(\u001b[49m\u001b[43marr\u001b[49m\u001b[43m,\u001b[49m\u001b[43m \u001b[49m\u001b[43mindexer\u001b[49m\u001b[43m,\u001b[49m\u001b[43m \u001b[49m\u001b[43maxis\u001b[49m\u001b[43m,\u001b[49m\u001b[43m \u001b[49m\u001b[43mfill_value\u001b[49m\u001b[43m,\u001b[49m\u001b[43m \u001b[49m\u001b[43mallow_fill\u001b[49m\u001b[43m)\u001b[49m\n",
      "File \u001b[0;32m~/opt/anaconda3/envs/tf/lib/python3.10/site-packages/pandas/core/array_algos/take.py:163\u001b[0m, in \u001b[0;36m_take_nd_ndarray\u001b[0;34m(arr, indexer, axis, fill_value, allow_fill)\u001b[0m\n\u001b[1;32m    158\u001b[0m     out \u001b[38;5;241m=\u001b[39m np\u001b[38;5;241m.\u001b[39mempty(out_shape, dtype\u001b[38;5;241m=\u001b[39mdtype)\n\u001b[1;32m    160\u001b[0m func \u001b[38;5;241m=\u001b[39m _get_take_nd_function(\n\u001b[1;32m    161\u001b[0m     arr\u001b[38;5;241m.\u001b[39mndim, arr\u001b[38;5;241m.\u001b[39mdtype, out\u001b[38;5;241m.\u001b[39mdtype, axis\u001b[38;5;241m=\u001b[39maxis, mask_info\u001b[38;5;241m=\u001b[39mmask_info\n\u001b[1;32m    162\u001b[0m )\n\u001b[0;32m--> 163\u001b[0m \u001b[43mfunc\u001b[49m\u001b[43m(\u001b[49m\u001b[43marr\u001b[49m\u001b[43m,\u001b[49m\u001b[43m \u001b[49m\u001b[43mindexer\u001b[49m\u001b[43m,\u001b[49m\u001b[43m \u001b[49m\u001b[43mout\u001b[49m\u001b[43m,\u001b[49m\u001b[43m \u001b[49m\u001b[43mfill_value\u001b[49m\u001b[43m)\u001b[49m\n\u001b[1;32m    165\u001b[0m \u001b[38;5;28;01mif\u001b[39;00m flip_order:\n\u001b[1;32m    166\u001b[0m     out \u001b[38;5;241m=\u001b[39m out\u001b[38;5;241m.\u001b[39mT\n",
      "\u001b[0;31mKeyboardInterrupt\u001b[0m: "
     ]
    }
   ],
   "source": [
    "#Define a function which returns predictions of a Linear Regression model\n",
    "def prediction_reg_VoD(thr):\n",
    "    reg = LinearRegression(fit_intercept=True).fit(outlier_detection(X_VoD_columns_scaled,Y_VoD['DispFrames'],thr)[0],outlier_detection(X_VoD_columns_scaled,Y_VoD['DispFrames'],thr)[1])                                                \n",
    "    return reg.predict(outlier_detection(X_VoD_columns_scaled,Y_VoD['DispFrames'],thr)[0])\n",
    "\n",
    "errors_reg_VoD =[]\n",
    "\n",
    "#For each threshold value iterate through the NMAE\n",
    "for thr in range(10,101,10):\n",
    "    if outlier_detection(X_VoD_columns_scaled,Y_VoD['DispFrames'],thr)[0].shape[0] >= 1: \n",
    "        errors_reg_VoD.append((1/np.mean(outlier_detection(X_VoD_columns_scaled,Y_VoD['DispFrames'],thr)[1]))*mean_absolute_error(prediction_reg_VoD(thr),outlier_detection(X_VoD_columns_scaled,Y_VoD['DispFrames'],thr)[1]))\n",
    "    else: \n",
    "        errors_reg_VoD = errors_reg_VoD\n",
    "        \n",
    "%store errors_reg_VoD"
   ]
  },
  {
   "cell_type": "code",
   "execution_count": null,
   "id": "90bb2901",
   "metadata": {},
   "outputs": [],
   "source": [
    "#Function that returns error directly\n",
    "\n",
    "#def errors_reg(features, labels):\n",
    "    \n",
    "    # Function that removes outliers from the features matrix as well as the target scores\n",
    "    # Note: Input is of the format pd.DataFrame\n",
    "#    def outlier_detection(thr): \n",
    "#        nonlocal features\n",
    "#        nonlocal labels\n",
    "#        \n",
    "#        features = features.T\n",
    "#        for col in features:\n",
    "#            if any(np.absolute(features[col]) >= thr):\n",
    "#                features = features.drop([col],axis=1)\n",
    "#                labels = labels.drop([col],axis=0)\n",
    "#        reg = LinearRegression(fit_intercept=True).fit(features,labels)                                                \n",
    "#        prediction = reg.predict(features)\n",
    "#        return features.T, labels, prediction\n",
    "#    errors_reg =[]\n",
    "#    for thr in range(0,101,10):\n",
    "#         if outlier_detection(thr)[0].shape[0] >= 1: \n",
    "#            errors_reg.append((1/np.mean(outlier_detection(thr)[1]))*mean_absolute_error(outlier_detection(thr)[2],outlier_detection(thr)[1]))\n",
    "#        else: \n",
    "#            errors_reg = errors_reg\n",
    "#    return errors_reg"
   ]
  },
  {
   "cell_type": "code",
   "execution_count": null,
   "id": "fec8c2e7",
   "metadata": {},
   "outputs": [],
   "source": [
    "#Errors for both datasets\n",
    "#errors_reg_KV = errors_reg(features_KV_columns_scaled, Y_KV['ReadsAvg'])\n",
    "#%store errors_reg_KV\n",
    "\n",
    "#errors_reg_VoD = errors_reg(features_VoD_columns_scaled, Y_VoD['DispFrames'])\n",
    "#%store errors_reg_VoD"
   ]
  },
  {
   "cell_type": "code",
   "execution_count": 6,
   "id": "3db394e3",
   "metadata": {},
   "outputs": [
    {
     "name": "stdout",
     "output_type": "stream",
     "text": [
      "Stored 'errors_rf_KV' (list)\n"
     ]
    }
   ],
   "source": [
    "#Random Forest\n",
    "\n",
    "#Define a function which returns predictions of a Linear Regression model\n",
    "def prediction_rf_KV(thr):\n",
    "    rand_forest = RandomForestRegressor(n_estimators=15, max_depth=10)\n",
    "    rand_forest.fit(outlier_detection(X_KV_columns_scaled,Y_KV['ReadsAvg'],thr)[0],outlier_detection(X_KV_columns_scaled,Y_KV['ReadsAvg'],thr)[1])                                                \n",
    "    return rand_forest.predict(outlier_detection(X_KV_columns_scaled,Y_KV['ReadsAvg'],thr)[0])\n",
    "\n",
    "errors_rf_KV =[]\n",
    "\n",
    "#For each threshold value iterate through the NMAE\n",
    "for thr in range(10,101,10):\n",
    "    if outlier_detection(X_KV_columns_scaled,Y_KV['ReadsAvg'],thr)[0].shape[0] >= 1: \n",
    "        errors_rf_KV.append((1/np.mean(outlier_detection(X_KV_columns_scaled,Y_KV['ReadsAvg'],thr)[1]))*mean_absolute_error(prediction_rf_KV(thr),outlier_detection(X_KV_columns_scaled,Y_KV['ReadsAvg'],thr)[1]))\n",
    "    else: \n",
    "        errors_rf_KV = errors_rf_KV\n",
    "        \n",
    "%store errors_rf_KV"
   ]
  },
  {
   "cell_type": "code",
   "execution_count": 7,
   "id": "8e83ef89",
   "metadata": {},
   "outputs": [
    {
     "name": "stdout",
     "output_type": "stream",
     "text": [
      "[0.014899336179967958, 0.01551940712081796, 0.01573018510910617, 0.015905654749923528, 0.0160936969421633, 0.0159320438076753, 0.015958347429305547, 0.016074424251368954, 0.01617289049737537, 0.016189498853844964]\n"
     ]
    }
   ],
   "source": [
    "print(errors_rf_KV)"
   ]
  },
  {
   "cell_type": "code",
   "execution_count": null,
   "id": "94f2a53c",
   "metadata": {},
   "outputs": [],
   "source": [
    "%store -r errors_rf_KV"
   ]
  },
  {
   "cell_type": "code",
   "execution_count": null,
   "id": "7fd53d2d",
   "metadata": {},
   "outputs": [],
   "source": [
    "#Define a function which returns predictions of a Linear Regression model\n",
    "def prediction_rf_VoD(thr):\n",
    "    rand_forest = RandomForestRegressor(n_estimators=15, max_depth=10)\n",
    "    rand_forest.fit(outlier_detection(X_VoD_columns_scaled,Y_VoD['DispFrames'],thr)[0],outlier_detection(X_VoD_columns_scaled,Y_VoD['DispFrames'],thr)[1])                                                \n",
    "    return rand_forest.predict(outlier_detection(X_VoD_columns_scaled,Y_VoD['DispFrames'],thr)[0])\n",
    "\n",
    "errors_rf_VoD =[]\n",
    "\n",
    "#For each threshold value iterate through the NMAE\n",
    "for thr in range(0,101,10):\n",
    "    if outlier_detection(X_VoD_columns_scaled,Y_VoD['DispFrames'],thr)[0].shape[0] >= 1: \n",
    "        errors_rf_VoD.append((1/np.mean(outlier_detection(X_VoD_columns_scaled,Y_VoD['DispFrames'],thr)[1]))*mean_absolute_error(prediction_rf_VoD(thr),outlier_detection(X_VoD_columns_scaled,Y_VoD['DispFrames'],thr)[1]))\n",
    "    else: \n",
    "        errors_rf_VoD = errors_rf_VoD\n",
    "        \n",
    "%store errors_rf_VoD"
   ]
  },
  {
   "cell_type": "code",
   "execution_count": 12,
   "id": "3cdd512b",
   "metadata": {},
   "outputs": [
    {
     "data": {
      "image/png": "[encoded data removed]",
      "text/plain": [
       "<Figure size 700x300 with 1 Axes>"
      ]
     },
     "metadata": {},
     "output_type": "display_data"
    }
   ],
   "source": [
    "#Plots\n",
    "x = np.arange(10,101,10)\n",
    "\n",
    "plt.figure(figsize=(7, 3))\n",
    "plt.plot(x, errors_reg_KV)\n",
    "plt.plot(x, errors_rf_KV)\n",
    "#plt.title('JNSM_KV_flashcrowd_1',fontsize=12)\n",
    "plt.xlabel(\"Threshold\")\n",
    "plt.ylabel(\"NMAE\")\n",
    "plt.legend(['Linear Regression','Random Forest'])\n",
    "plt.savefig('NMAE_KV',bbox_inches='tight')\n",
    "plt.show()"
   ]
  },
  {
   "cell_type": "code",
   "execution_count": null,
   "id": "a12ee294",
   "metadata": {},
   "outputs": [],
   "source": [
    "#Plots\n",
    "x = np.arange(10,101,10)\n",
    "\n",
    "plt.figure(figsize=(7, 3))\n",
    "plt.plot(x, errors_reg_VoD)\n",
    "plt.title('Random Forest - dataset JNSM_KV_flashcrowd_1 ',fontsize=12)\n",
    "plt.xlabel(\"Threshold\")\n",
    "plt.ylabel(\"NMAE\")\n",
    "plt.show()\n",
    "\n",
    "plt.figure(figsize=(7, 3))\n",
    "plt.plot(x, errors_rf_VoD)\n",
    "plt.title('Random Forest - JNSM_VoD_flashcrowd_1',fontsize=12)\n",
    "plt.xlabel(\"Threshold\")\n",
    "plt.ylabel(\"NMAE\")\n",
    "plt.show()"
   ]
  }
 ],
 "metadata": {
  "kernelspec": {
   "display_name": "tf",
   "language": "python",
   "name": "tf"
  },
  "language_info": {
   "codemirror_mode": {
    "name": "ipython",
    "version": 3
   },
   "file_extension": ".py",
   "mimetype": "text/x-python",
   "name": "python",
   "nbconvert_exporter": "python",
   "pygments_lexer": "ipython3",
   "version": "3.10.6"
  }
 },
 "nbformat": 4,
 "nbformat_minor": 5
}
